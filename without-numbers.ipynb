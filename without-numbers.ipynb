{
 "cells": [
  {
   "cell_type": "code",
   "execution_count": null,
   "metadata": {},
   "outputs": [],
   "source": [
    "#Loaded Customer Review Data \n",
    "import string\n",
    "import pandas as pd\n",
    "from nltk.corpus import stopwords\n",
    "from nltk.corpus import stopwords\n",
    "\n",
    "data = pd.read_excel('/Users/SCHOOL/Desktop/webmd.com/preprocessing/zonisamide.xlsx')\n",
    "data['Comment'] = data['Comment'].str.replace('\\d+', '')\n",
    "\n",
    "data.to_excel(\"/Users/SCHOOL/Desktop/webmd.com/Preprocessing/without-numbers/zonisamide.xlsx\")\n",
    "print(\"Success\")"
   ]
  }
 ],
 "metadata": {
  "kernelspec": {
   "display_name": "Python 3",
   "language": "python",
   "name": "python3"
  },
  "language_info": {
   "codemirror_mode": {
    "name": "ipython",
    "version": 3
   },
   "file_extension": ".py",
   "mimetype": "text/x-python",
   "name": "python",
   "nbconvert_exporter": "python",
   "pygments_lexer": "ipython3",
   "version": "3.7.7"
  }
 },
 "nbformat": 4,
 "nbformat_minor": 4
}
