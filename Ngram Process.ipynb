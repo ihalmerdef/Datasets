{
 "cells": [
  {
   "cell_type": "code",
   "execution_count": 168,
   "metadata": {},
   "outputs": [
    {
     "data": {
      "text/html": [
       "<div>\n",
       "<style scoped>\n",
       "    .dataframe tbody tr th:only-of-type {\n",
       "        vertical-align: middle;\n",
       "    }\n",
       "\n",
       "    .dataframe tbody tr th {\n",
       "        vertical-align: top;\n",
       "    }\n",
       "\n",
       "    .dataframe thead th {\n",
       "        text-align: right;\n",
       "    }\n",
       "</style>\n",
       "<table border=\"1\" class=\"dataframe\">\n",
       "  <thead>\n",
       "    <tr style=\"text-align: right;\">\n",
       "      <th></th>\n",
       "      <th>Unnamed: 0</th>\n",
       "      <th>Unnamed: 0.1</th>\n",
       "      <th>Condition</th>\n",
       "      <th>Review Date</th>\n",
       "      <th>Reviewer Info</th>\n",
       "      <th>Comment</th>\n",
       "    </tr>\n",
       "  </thead>\n",
       "  <tbody>\n",
       "    <tr>\n",
       "      <th>0</th>\n",
       "      <td>0</td>\n",
       "      <td>0</td>\n",
       "      <td>Condition: Epileptic Seizure</td>\n",
       "      <td>2/9/2014 4:19:32 PM</td>\n",
       "      <td>Reviewer: hkic1, 55-64 Male  on Treatment for ...</td>\n",
       "      <td>medication since  years old diagnosed epilepsy...</td>\n",
       "    </tr>\n",
       "    <tr>\n",
       "      <th>1</th>\n",
       "      <td>1</td>\n",
       "      <td>1</td>\n",
       "      <td>Condition: Seizure Occurring during Neurosurgery</td>\n",
       "      <td>10/27/2013 12:18:33 PM</td>\n",
       "      <td>Reviewer: carmah, 75 or over Female  on Treatm...</td>\n",
       "      <td>vertigo could walki</td>\n",
       "    </tr>\n",
       "    <tr>\n",
       "      <th>2</th>\n",
       "      <td>2</td>\n",
       "      <td>2</td>\n",
       "      <td>Condition: Epileptic Seizure</td>\n",
       "      <td>10/18/2012 8:07:46 PM</td>\n",
       "      <td>Reviewer: tges, 55-64 Female  on Treatment for...</td>\n",
       "      <td>due fluctuation levels alternating odd dayeven...</td>\n",
       "    </tr>\n",
       "    <tr>\n",
       "      <th>3</th>\n",
       "      <td>3</td>\n",
       "      <td>3</td>\n",
       "      <td>Condition: Epileptic Seizure</td>\n",
       "      <td>7/23/2012 5:55:01 PM</td>\n",
       "      <td>Reviewer: Butterflyangel, 55-64 Female  on Tre...</td>\n",
       "      <td>taken medication along phenobarbital little  y...</td>\n",
       "    </tr>\n",
       "    <tr>\n",
       "      <th>4</th>\n",
       "      <td>4</td>\n",
       "      <td>4</td>\n",
       "      <td>Condition: Epileptic Seizure</td>\n",
       "      <td>7/19/2011 1:56:10 PM</td>\n",
       "      <td>Reviewer:</td>\n",
       "      <td>good</td>\n",
       "    </tr>\n",
       "  </tbody>\n",
       "</table>\n",
       "</div>"
      ],
      "text/plain": [
       "   Unnamed: 0  Unnamed: 0.1                                         Condition  \\\n",
       "0           0             0                      Condition: Epileptic Seizure   \n",
       "1           1             1  Condition: Seizure Occurring during Neurosurgery   \n",
       "2           2             2                      Condition: Epileptic Seizure   \n",
       "3           3             3                      Condition: Epileptic Seizure   \n",
       "4           4             4                      Condition: Epileptic Seizure   \n",
       "\n",
       "              Review Date                                      Reviewer Info  \\\n",
       "0     2/9/2014 4:19:32 PM  Reviewer: hkic1, 55-64 Male  on Treatment for ...   \n",
       "1  10/27/2013 12:18:33 PM  Reviewer: carmah, 75 or over Female  on Treatm...   \n",
       "2   10/18/2012 8:07:46 PM  Reviewer: tges, 55-64 Female  on Treatment for...   \n",
       "3    7/23/2012 5:55:01 PM  Reviewer: Butterflyangel, 55-64 Female  on Tre...   \n",
       "4    7/19/2011 1:56:10 PM                                         Reviewer:    \n",
       "\n",
       "                                             Comment  \n",
       "0  medication since  years old diagnosed epilepsy...  \n",
       "1                                vertigo could walki  \n",
       "2  due fluctuation levels alternating odd dayeven...  \n",
       "3  taken medication along phenobarbital little  y...  \n",
       "4                                               good  "
      ]
     },
     "execution_count": 168,
     "metadata": {},
     "output_type": "execute_result"
    }
   ],
   "source": [
    "#Resurces:\n",
    "#https://towardsdatascience.com/from-dataframe-to-n-grams-e34e29df3460\n",
    "import pandas as pd\n",
    "import re\n",
    "import unicodedata\n",
    "import nltk\n",
    "\n",
    "from string import digits\n",
    "\n",
    "\n",
    "# 'abcdefghizero'\n",
    "import matplotlib.pyplot as plt\n",
    "#Loaded Review Data \n",
    "\n",
    "df2 = pd.read_excel('/Users/SCHOOL/Desktop/webmd.com/Ngram/dilantin.xlsx')\n",
    "df = pd.DataFrame(df2) \n",
    "df.head()"
   ]
  },
  {
   "cell_type": "code",
   "execution_count": 169,
   "metadata": {},
   "outputs": [],
   "source": [
    "# natural language processing: n-gram ranking\n",
    "import re\n",
    "import unicodedata\n",
    "from nltk.corpus import stopwords\n",
    "\n",
    "import matplotlib.pyplot as plt"
   ]
  },
  {
   "cell_type": "code",
   "execution_count": 170,
   "metadata": {},
   "outputs": [],
   "source": [
    "#Cleaning Function to remove punctuations and stopwords(I,am,and,or...etc)\n",
    "def basic_clean(text):\n",
    "  \"\"\"\n",
    "  A simple function to clean up the data. All the words that\n",
    "  are not designated as a stop word is then lemmatized after\n",
    "  encoding and basic regex parsing are performed.\n",
    "  \"\"\"\n",
    "  wnl = nltk.stem.WordNetLemmatizer()\n",
    "  stopwords = nltk.corpus.stopwords.words('english')\n",
    "  text = (unicodedata.normalize('NFKD', text)\n",
    "    .encode('ascii', 'ignore')\n",
    "    .decode('utf-8', 'ignore')\n",
    "    .lower())\n",
    "    \n",
    "  words = re.sub('[^a-z ]',r'', text).split()\n",
    "\n",
    "  return [wnl.lemmatize(word) for word in words if word not in stopwords ]"
   ]
  },
  {
   "cell_type": "code",
   "execution_count": 171,
   "metadata": {},
   "outputs": [],
   "source": [
    "words = basic_clean(''.join(str(df['Comment'].tolist())))"
   ]
  },
  {
   "cell_type": "code",
   "execution_count": 172,
   "metadata": {},
   "outputs": [
    {
     "data": {
      "text/plain": [
       "['medication',\n",
       " 'since',\n",
       " 'year',\n",
       " 'old',\n",
       " 'diagnosed',\n",
       " 'epilepsy',\n",
       " 'phenobarbital',\n",
       " 'time',\n",
       " 'daily',\n",
       " 'dilantin',\n",
       " 'came',\n",
       " 'drive',\n",
       " 'dr',\n",
       " 'tried',\n",
       " 'diamox',\n",
       " 'twice',\n",
       " 'day',\n",
       " 'seemed',\n",
       " 'keep']"
      ]
     },
     "execution_count": 172,
     "metadata": {},
     "output_type": "execute_result"
    }
   ],
   "source": [
    "words[:19]"
   ]
  },
  {
   "cell_type": "code",
   "execution_count": 173,
   "metadata": {},
   "outputs": [
    {
     "data": {
      "text/plain": [
       "(seizure,)         49\n",
       "(year,)            39\n",
       "(dilantin,)        32\n",
       "(taking,)          19\n",
       "(taken,)           16\n",
       "                   ..\n",
       "(common,)           1\n",
       "(grew,)             1\n",
       "(decline,)          1\n",
       "(deterioation,)     1\n",
       "(impact,)           1\n",
       "Length: 631, dtype: int64"
      ]
     },
     "execution_count": 173,
     "metadata": {},
     "output_type": "execute_result"
    }
   ],
   "source": [
    "unigram=(pd.Series(nltk.ngrams(words, 1)).value_counts())[:100000000000000000000000000000000000000000000]\n",
    "pd.DataFrame(unigram).to_excel('dilantin(unigram).xlsx', 's')\n",
    "unigram"
   ]
  },
  {
   "cell_type": "code",
   "execution_count": 174,
   "metadata": {},
   "outputs": [
    {
     "data": {
      "text/plain": [
       "(seizure, free)            10\n",
       "(side, effect)              9\n",
       "(taking, dilantin)          7\n",
       "(dilantin, year)            6\n",
       "(year, ago)                 6\n",
       "                           ..\n",
       "(question, generic)         1\n",
       "(workswith, one)            1\n",
       "(combination, dilantin)     1\n",
       "(neurologist, tell)         1\n",
       "(missing, diamox)           1\n",
       "Length: 1271, dtype: int64"
      ]
     },
     "execution_count": 174,
     "metadata": {},
     "output_type": "execute_result"
    }
   ],
   "source": [
    "bigram=(pd.Series(nltk.ngrams(words, 2)).value_counts())[:10000000000000000000000000000]\n",
    "pd.DataFrame(bigram).to_excel('dilantin(bigram).xlsx', 's')\n",
    "bigram"
   ]
  },
  {
   "cell_type": "code",
   "execution_count": 175,
   "metadata": {},
   "outputs": [
    {
     "data": {
      "text/plain": [
       "(seizure, free, year)            4\n",
       "(since, year, old)               3\n",
       "(side, effect, ive)              2\n",
       "(taking, dilantin, year)         2\n",
       "(ive, seizure, free)             2\n",
       "                                ..\n",
       "(veggiesolive, oil, butter)      1\n",
       "(psychological, side, effect)    1\n",
       "(ive, taken, dilantin)           1\n",
       "(generic, wasnt, affective)      1\n",
       "(wake, nausea, even)             1\n",
       "Length: 1365, dtype: int64"
      ]
     },
     "execution_count": 175,
     "metadata": {},
     "output_type": "execute_result"
    }
   ],
   "source": [
    "trigram=(pd.Series(nltk.ngrams(words, 3)).value_counts())[:10000000000000000000000000000]\n",
    "pd.DataFrame(trigram).to_excel('dilantin(trigram).xlsx', 's')\n",
    "trigram"
   ]
  },
  {
   "cell_type": "code",
   "execution_count": null,
   "metadata": {},
   "outputs": [],
   "source": []
  },
  {
   "cell_type": "code",
   "execution_count": null,
   "metadata": {},
   "outputs": [],
   "source": []
  }
 ],
 "metadata": {
  "kernelspec": {
   "display_name": "Python 3",
   "language": "python",
   "name": "python3"
  },
  "language_info": {
   "codemirror_mode": {
    "name": "ipython",
    "version": 3
   },
   "file_extension": ".py",
   "mimetype": "text/x-python",
   "name": "python",
   "nbconvert_exporter": "python",
   "pygments_lexer": "ipython3",
   "version": "3.7.7"
  }
 },
 "nbformat": 4,
 "nbformat_minor": 4
}
