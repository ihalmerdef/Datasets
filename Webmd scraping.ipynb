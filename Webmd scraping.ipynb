{
 "cells": [
  {
   "cell_type": "code",
   "execution_count": 21,
   "metadata": {},
   "outputs": [],
   "source": [
    "#Notes this script is not related to the same folder of the left page script. I have to edit the original one\n",
    "#either download it from the drive or start from the button with drug list :) good night\n",
    "#Works fine all I have to do is the following:\n",
    "from bs4 import BeautifulSoup as BS\n",
    "import requests\n",
    "import csv\n",
    "import time\n",
    "\n",
    "\n",
    "#1. Change the link to the drug link.\n",
    "url = 'https://www.webmd.com/drugs/drugreview-1442-valproate+sodium+intravenous.aspx?drugid=1442&drugname=valproate+sodium+intravenous&sortby=3'\n",
    "agent = {\"User-Agent\":'Mozilla/5.0 (Windows NT 6.3; WOW64) AppleWebKit/537.36 (KHTML, like Gecko) Chrome/59.0.3071.115 Safari/537.36'}\n",
    "page = requests.get(url, headers=agent)\n",
    "#print (BS(page.content, 'lxml'))\n"
   ]
  },
  {
   "cell_type": "code",
   "execution_count": 22,
   "metadata": {},
   "outputs": [],
   "source": [
    "soup = BS(page.content, 'lxml')"
   ]
  },
  {
   "cell_type": "code",
   "execution_count": 23,
   "metadata": {},
   "outputs": [],
   "source": [
    "#2. change the file name to match the drug name\n",
    "csv_file = open('valproate-sodium.csv', 'w')"
   ]
  },
  {
   "cell_type": "code",
   "execution_count": 24,
   "metadata": {},
   "outputs": [
    {
     "data": {
      "text/plain": [
       "45"
      ]
     },
     "execution_count": 24,
     "metadata": {},
     "output_type": "execute_result"
    }
   ],
   "source": [
    "csv_writer = csv.writer(csv_file)\n",
    "csv_writer.writerow(['Condition','Review Date','Reviewer Info','Comment'])"
   ]
  },
  {
   "cell_type": "code",
   "execution_count": 25,
   "metadata": {},
   "outputs": [
    {
     "name": "stdout",
     "output_type": "stream",
     "text": [
      "Success\n"
     ]
    }
   ],
   "source": [
    "for userPost in soup.find_all('div', class_='userPost'):\n",
    "    \n",
    "    condition = userPost.find('div', class_='conditionInfo').text\n",
    "    #print(condition)\n",
    "    \n",
    "    date = userPost.find('div', class_='date').text\n",
    "    #print(date)\n",
    "    \n",
    "    reviewerInfo = userPost.find('p', class_='reviewerInfo').text\n",
    "    #print(reviewerInfo)\n",
    "    \n",
    "    comment = userPost.find_all('p',class_='comment')\n",
    "    fullcomment = comment[1].text\n",
    "    #print(fullcomment)\n",
    "    \n",
    "    \n",
    "    csv_writer.writerow([condition, date, reviewerInfo,fullcomment])\n",
    "\n",
    "csv_file.close()\n",
    "print('Success')\n"
   ]
  },
  {
   "cell_type": "code",
   "execution_count": null,
   "metadata": {},
   "outputs": [],
   "source": []
  },
  {
   "cell_type": "code",
   "execution_count": null,
   "metadata": {},
   "outputs": [],
   "source": []
  }
 ],
 "metadata": {
  "kernelspec": {
   "display_name": "Python 3",
   "language": "python",
   "name": "python3"
  },
  "language_info": {
   "codemirror_mode": {
    "name": "ipython",
    "version": 3
   },
   "file_extension": ".py",
   "mimetype": "text/x-python",
   "name": "python",
   "nbconvert_exporter": "python",
   "pygments_lexer": "ipython3",
   "version": "3.7.7"
  }
 },
 "nbformat": 4,
 "nbformat_minor": 4
}
