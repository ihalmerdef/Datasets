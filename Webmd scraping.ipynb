{
 "cells": [
  {
   "cell_type": "code",
   "execution_count": 66,
   "metadata": {},
   "outputs": [],
   "source": [
    "from bs4 import BeautifulSoup\n",
    "import requests\n",
    "import csv\n",
    "import time\n",
    "\n",
    "\n",
    "source = requests.get('https://www.webmd.com/drugs/drugreview-7099-ethosuximide+oral.aspx?drugid=7099&drugname=ethosuximide+oral&pageIndex=1&sortby=3&conditionFilter=-500').text"
   ]
  },
  {
   "cell_type": "code",
   "execution_count": 67,
   "metadata": {},
   "outputs": [],
   "source": [
    "soup = BeautifulSoup(source, 'lxml')"
   ]
  },
  {
   "cell_type": "code",
   "execution_count": 68,
   "metadata": {},
   "outputs": [],
   "source": [
    "csv_file = open('ethosuximide-2.csv', 'w')"
   ]
  },
  {
   "cell_type": "code",
   "execution_count": 69,
   "metadata": {},
   "outputs": [
    {
     "data": {
      "text/plain": [
       "45"
      ]
     },
     "execution_count": 69,
     "metadata": {},
     "output_type": "execute_result"
    }
   ],
   "source": [
    "csv_writer = csv.writer(csv_file)\n",
    "csv_writer.writerow(['Condition','Review Date','Reviewer Info','Comment'])"
   ]
  },
  {
   "cell_type": "code",
   "execution_count": 70,
   "metadata": {},
   "outputs": [],
   "source": [
    "for userPost in soup.find_all('div', class_='userPost'):\n",
    "    \n",
    "    condition = userPost.find('div', class_='conditionInfo').text\n",
    "    #print(condition)//done\n",
    "    \n",
    "    date = userPost.find('div', class_='date').text\n",
    "    #print(date)//done\n",
    "    \n",
    "    reviewerInfo = userPost.find('p', class_='reviewerInfo').text\n",
    "    #print(reviewerInfo)//done\n",
    "    \n",
    "    comment = userPost.find_all('p',class_='comment')\n",
    "    fullcomment = comment[1].text\n",
    "    #print(fullcomment)//done\n",
    "    \n",
    "    \n",
    "    csv_writer.writerow([condition, date, reviewerInfo,fullcomment])\n",
    "\n",
    "csv_file.close()\n"
   ]
  },
  {
   "cell_type": "code",
   "execution_count": null,
   "metadata": {},
   "outputs": [],
   "source": []
  },
  {
   "cell_type": "code",
   "execution_count": null,
   "metadata": {},
   "outputs": [],
   "source": []
  }
 ],
 "metadata": {
  "kernelspec": {
   "display_name": "Python 3",
   "language": "python",
   "name": "python3"
  },
  "language_info": {
   "codemirror_mode": {
    "name": "ipython",
    "version": 3
   },
   "file_extension": ".py",
   "mimetype": "text/x-python",
   "name": "python",
   "nbconvert_exporter": "python",
   "pygments_lexer": "ipython3",
   "version": "3.7.7"
  }
 },
 "nbformat": 4,
 "nbformat_minor": 4
}
